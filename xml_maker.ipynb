{
 "cells": [
  {
   "cell_type": "code",
   "execution_count": 45,
   "metadata": {},
   "outputs": [],
   "source": [
    "import numpy as np\n",
    "import pandas as pd\n",
    "from os import mkdir, listdir\n",
    "import xml.etree.ElementTree as et\n",
    "from scipy.constants import pi, g\n",
    "import matplotlib.pyplot as plt\n",
    "plt.style.use('bmh')\n",
    "%matplotlib inline"
   ]
  },
  {
   "cell_type": "code",
   "execution_count": 47,
   "metadata": {},
   "outputs": [],
   "source": [
    "def test_col_names(material_df):\n",
    "    '''Checks that the header is as expected.'''\n",
    "    header = ['Diameter [mm]',\n",
    "              'Massetetthet [kg/m]',\n",
    "              'MBL [tonn]',\n",
    "              'MBL [kN]',\n",
    "              'E-modul [Pa]',\n",
    "              'Materialkoeffisient'] # Expected header\n",
    "    for col_name in header:\n",
    "        assert col_name in material_df.columns, \\\n",
    "        '{} not in dataset.'.format(col_name)\n",
    "\n",
    "def test_col_types(material_df):\n",
    "    '''Checks that all columns are float64.'''\n",
    "    col_types = material_df.dtypes\n",
    "    for i, col_type in enumerate(col_types):\n",
    "        assert col_type == np.float64, \\\n",
    "        '{} is not float64.'.format(material_df.columns[i])\n",
    "\n",
    "def test_increasing_observations(material_df):\n",
    "    '''Checks that all, except last two columns, are \n",
    "    increasing in value with each observation.'''\n",
    "    rows, cols = material_df.shape\n",
    "    for j in range(cols-2):\n",
    "        for i in range(rows-1):\n",
    "            assert material_df.iloc[i, j] < material_df.iloc[i+1, j], \\\n",
    "            '{} is not increasing with each observation.'.format(material_df.columns[j])\n",
    "\n",
    "def test_interdepence(material_df):\n",
    "    '''Checks that MBL [tonn] and MBL [kN]\n",
    "    corresponds within tolerance of 1000 N.'''\n",
    "    tolerance = 1.0 # kN\n",
    "    low_bound = (material_df['MBL [kN]'] - tolerance\n",
    "                 <= material_df['MBL [tonn]'] * g)\n",
    "    up_bound = (material_df['MBL [kN]'] + tolerance\\\n",
    "                >= material_df['MBL [tonn]'] * g)\n",
    "    bounds = ~(low_bound & up_bound)\n",
    "    assert low_bound.all() and up_bound.all(), \\\n",
    "    'Discrepancy between MBL [tonn] and MBL [kN] in \\n{}'.format(material_df[bounds])\n",
    "\n",
    "def test_material(material_df):\n",
    "    '''Runs all tests.'''\n",
    "    test_col_names(material_df)\n",
    "    test_col_types(material_df)\n",
    "    test_increasing_observations(material_df)\n",
    "    test_interdepence(material_df)\n",
    "\n",
    "def make_control_figures(material_df, fig_name, folder=None):\n",
    "    '''Makes figures that are important for inspection.'''\n",
    "    material_df_mod = material_df.set_index(\"Diameter [mm]\")\n",
    "    min_D = np.floor(material_df[\"Diameter [mm]\"].min() / 10) * 10\n",
    "    max_D = np.ceil(material_df[\"Diameter [mm]\"].max() / 10 + 1) * 10\n",
    "    fig1 = material_df_mod.plot(subplots=True,\n",
    "                                figsize=(10,20),\n",
    "                                xticks=np.arange(min_D, max_D, 10),\n",
    "                                marker=\"o\",\n",
    "                                title=fig_name,\n",
    "                               fontsize=20)\n",
    "    if folder:\n",
    "        plt.savefig(folder + \"/\" + fig_name + \".svg\", format=\"svg\")\n",
    "        plt.savefig(folder + \"/\" + fig_name + \".png\", format=\"png\")\n",
    "    else:\n",
    "        plt.savefig(fig_name + \".svg\", format=\"svg\")\n",
    "        plt.savefig(fig_name + \".png\", format=\"png\")\n",
    "    plt.clf()\n",
    "    fig2 = material_df_mod.diff().plot(subplots=True,\n",
    "                                       figsize=(10,20),\n",
    "                                       xticks=np.arange(min_D, max_D, 10),\n",
    "                                       marker=\"o\",\n",
    "                                       title=fig_name,\n",
    "                                      fontsize=20)\n",
    "    if folder:\n",
    "        plt.savefig(folder + \"/\" + fig_name + \"_diff.svg\", format=\"svg\")\n",
    "        plt.savefig(folder + \"/\" + fig_name + \"_diff.png\", format=\"png\")\n",
    "    else:\n",
    "        plt.savefig(fig_name + \"_diff.svg\", format=\"svg\")\n",
    "        plt.savefig(fig_name + \"_diff.png\", format=\"png\")\n",
    "    plt.clf()\n",
    "\n",
    "def make_xml_library(material_df, material_name, material_suffix, is_chain, folder=None):\n",
    "    \"\"\"Reads from material DataFrame and\n",
    "    writes readable library of steel chain for AquaEdit.\"\"\"\n",
    "    sea_density = 1025.0\n",
    "    steel_density = 7850.0 # value used by AS\n",
    "    mass_correction = ((steel_density - sea_density)\n",
    "                       / steel_density) # correction for buoyancy of steel in sea water\n",
    "    \n",
    "    for index, row in material_df.iterrows():\n",
    "        full_name = str(int(row[\"Diameter [mm]\"])) + \" \" + material_suffix\n",
    "        description = str(int(row[\"Diameter [mm]\"])) + \" mm \" + material_name\n",
    "        radius = row[\"Diameter [mm]\"]  / 2e3 # meters\n",
    "        mass = row[\"Massetetthet [kg/m]\"] # per meter\n",
    "        if is_chain:\n",
    "            addedmassz = 1.0\n",
    "            addedmassy = 1.0\n",
    "            area = 2 * pi * radius ** 2\n",
    "            rho = mass / area # mass density (kg/m^3)\n",
    "            mass_water = mass * mass_correction\n",
    "            volume = mass / steel_density\n",
    "        else:\n",
    "            addedmassz = 0.0\n",
    "            addedmassy = 0.0\n",
    "            area = pi * radius ** 2\n",
    "            rho = mass / area # mass density (kg/m^3)\n",
    "            mass_water = 0.001\n",
    "            volume = area\n",
    "        \n",
    "        library = et.Element(\"Library\")\n",
    "        truss = et.SubElement(library, \"truss\", \n",
    "                              id = str(index + 1), \n",
    "                              name = full_name)\n",
    "        et.SubElement(truss, \"description\", des=description)\n",
    "        et.SubElement(truss, \"mooring\",\n",
    "                      pretension = \"0.0\",\n",
    "                      addedmasscoefflocalz = str(addedmassz),\n",
    "                      addedmasscoefflocaly = str(addedmassy),\n",
    "                      massdensity = str(rho),\n",
    "                      young = str(row[\"E-modul [Pa]\"]),\n",
    "                      noCompressionForces = \"false\",\n",
    "                      volumeoverwritten = \"true\",\n",
    "                      volume = str(volume),\n",
    "                      areal = str(area),\n",
    "                      weightinwateroverwritten = \"true\",\n",
    "                      weightInWater = str(mass_water),\n",
    "                      weightInAir = str(mass))\n",
    "        et.SubElement(truss, \"extra\",\n",
    "                      trusstype = \"3\", # custom type\n",
    "                      materialcoefficient = str(row[\"Materialkoeffisient\"]),\n",
    "                      breakingload = str(row[\"MBL [kN]\"] * 1000))\n",
    "        et.SubElement(truss, \"loadmodel\",\n",
    "                      dragCoeffy = \"1.2\",\n",
    "                      dragCoeffz = \"1.2\",\n",
    "                      dragArealy = str(row[\"Diameter [mm]\"] / 1000),\n",
    "                      dragArealyz = str(row[\"Diameter [mm]\"] / 1000),\n",
    "                      constructionDamping = \"0.0\",\n",
    "                      rayleighStiffness = \"0.0\",\n",
    "                      tangentialDragCoeff = \"0.0\",\n",
    "                      numvelocities = \"0\",\n",
    "                      hullnumPoints = \"0\",\n",
    "                      closeSurfaceNumPoints = \"0\",\n",
    "                      numWaveHeading = \"0\",\n",
    "                      viscousRollDamping = \"0.0\",\n",
    "                      massRadius = \"0.0\",\n",
    "                      LoadType = \"MORRISON\")\n",
    "        \n",
    "        tree = et.ElementTree(library)\n",
    "        if folder:\n",
    "            if folder in listdir():\n",
    "                tree.write(folder + \"/\" + full_name + \".xml\")\n",
    "            else:\n",
    "                mkdir(folder)\n",
    "                tree.write(folder + \"/\" + full_name + \".xml\")\n",
    "        else:\n",
    "            tree.write(full_name + \".xml\")\n",
    "\n",
    "def make_library(lib_path, material_name, material_suffix, sheet_name, is_chain, folder=None):\n",
    "    '''Runs test battery, creates figures for inspection and AE friendly library.'''\n",
    "    material_df = pd.read_excel(lib_path, sheet_name=sheet_name, dtype=float)\n",
    "    make_control_figures(material_df, fig_name=sheet_name, folder=\"Figurer\")\n",
    "    test_material(material_df)\n",
    "    make_xml_library(material_df, material_name, material_suffix, is_chain, folder)\n"
   ]
  },
  {
   "cell_type": "code",
   "execution_count": 67,
   "metadata": {},
   "outputs": [
    {
     "name": "stdout",
     "output_type": "stream",
     "text": [
      "3-SuperTec\n",
      "8-SuperTec\n",
      "3-Superdan\n",
      "8-Superdan\n",
      "3-Nylon\n",
      "8-Nylon\n",
      "3-GoldSafety\n",
      "Alloykjetting\n",
      "Ankerkjetting\n"
     ]
    },
    {
     "data": {
      "text/plain": [
       "<Figure size 720x1440 with 0 Axes>"
      ]
     },
     "metadata": {},
     "output_type": "display_data"
    },
    {
     "data": {
      "text/plain": [
       "<Figure size 720x1440 with 0 Axes>"
      ]
     },
     "metadata": {},
     "output_type": "display_data"
    },
    {
     "data": {
      "text/plain": [
       "<Figure size 720x1440 with 0 Axes>"
      ]
     },
     "metadata": {},
     "output_type": "display_data"
    },
    {
     "data": {
      "text/plain": [
       "<Figure size 720x1440 with 0 Axes>"
      ]
     },
     "metadata": {},
     "output_type": "display_data"
    },
    {
     "data": {
      "text/plain": [
       "<Figure size 720x1440 with 0 Axes>"
      ]
     },
     "metadata": {},
     "output_type": "display_data"
    },
    {
     "data": {
      "text/plain": [
       "<Figure size 720x1440 with 0 Axes>"
      ]
     },
     "metadata": {},
     "output_type": "display_data"
    },
    {
     "data": {
      "text/plain": [
       "<Figure size 720x1440 with 0 Axes>"
      ]
     },
     "metadata": {},
     "output_type": "display_data"
    },
    {
     "data": {
      "text/plain": [
       "<Figure size 720x1440 with 0 Axes>"
      ]
     },
     "metadata": {},
     "output_type": "display_data"
    },
    {
     "data": {
      "text/plain": [
       "<Figure size 720x1440 with 0 Axes>"
      ]
     },
     "metadata": {},
     "output_type": "display_data"
    },
    {
     "data": {
      "text/plain": [
       "<Figure size 720x1440 with 0 Axes>"
      ]
     },
     "metadata": {},
     "output_type": "display_data"
    },
    {
     "data": {
      "text/plain": [
       "<Figure size 720x1440 with 0 Axes>"
      ]
     },
     "metadata": {},
     "output_type": "display_data"
    },
    {
     "data": {
      "text/plain": [
       "<Figure size 720x1440 with 0 Axes>"
      ]
     },
     "metadata": {},
     "output_type": "display_data"
    },
    {
     "data": {
      "text/plain": [
       "<Figure size 720x1440 with 0 Axes>"
      ]
     },
     "metadata": {},
     "output_type": "display_data"
    },
    {
     "data": {
      "text/plain": [
       "<Figure size 720x1440 with 0 Axes>"
      ]
     },
     "metadata": {},
     "output_type": "display_data"
    },
    {
     "data": {
      "text/plain": [
       "<Figure size 720x1440 with 0 Axes>"
      ]
     },
     "metadata": {},
     "output_type": "display_data"
    },
    {
     "data": {
      "text/plain": [
       "<Figure size 720x1440 with 0 Axes>"
      ]
     },
     "metadata": {},
     "output_type": "display_data"
    },
    {
     "data": {
      "text/plain": [
       "<Figure size 720x1440 with 0 Axes>"
      ]
     },
     "metadata": {},
     "output_type": "display_data"
    },
    {
     "data": {
      "text/plain": [
       "<Figure size 720x1440 with 0 Axes>"
      ]
     },
     "metadata": {},
     "output_type": "display_data"
    }
   ],
   "source": [
    "mat_dict = {\n",
    "#   Suffix: [material_name, sheet_name, is_chain]\n",
    "    \"STec-3\": [\"SuperTec 3-slått\", \"3-SuperTec\", False],\n",
    "    \"STec-8\": [\"SuperTec 8-slått\", \"8-SuperTec\", False],\n",
    "    \"Sdan-3\": [\"Superdan 3-slått\", \"3-Superdan\", False],\n",
    "    \"Sdan-8\": [\"Superdan 8-slått\", \"8-Superdan\", False],\n",
    "    \"Nyl-3\": [\"Nylon 3-slått\", \"3-Nylon\", False],\n",
    "    \"Nyl-8\": [\"Nylon 8-slått\", \"8-Nylon\", False],\n",
    "    \"GS-3\": [\"Gold Safety 3-slått\", \"3-GoldSafety\", False],\n",
    "    \"AlKj\": [\"Alloykjetting\", \"Alloykjetting\", True],\n",
    "    \"AnKj\": [\"Ankerkjetting\", \"Ankerkjetting\", True]\n",
    "}\n",
    "\n",
    "for suffix, mat_list in mat_dict.items():\n",
    "    print(mat_list[1]) # sheet_name\n",
    "    make_library(lib_path=\"materialtabeller.xlsx\",\n",
    "                material_name=mat_list[0],\n",
    "                material_suffix=suffix,\n",
    "                sheet_name=mat_list[1],\n",
    "                folder=mat_list[1],\n",
    "                is_chain=mat_list[2])"
   ]
  },
  {
   "cell_type": "code",
   "execution_count": 7,
   "metadata": {},
   "outputs": [
    {
     "name": "stdout",
     "output_type": "stream",
     "text": [
      "<class 'pandas.core.frame.DataFrame'>\n",
      "RangeIndex: 9 entries, 0 to 8\n",
      "Data columns (total 9 columns):\n",
      "varenr          9 non-null object\n",
      "dim             9 non-null object\n",
      "provekraft      9 non-null object\n",
      "mbl             9 non-null int64\n",
      "diameter        9 non-null int64\n",
      "L               9 non-null int64\n",
      "B               9 non-null int64\n",
      "massetetthet    9 non-null float64\n",
      "mbl_tonn        9 non-null float64\n",
      "dtypes: float64(2), int64(4), object(3)\n",
      "memory usage: 728.0+ bytes\n"
     ]
    }
   ],
   "source": [
    "alloy = pd.read_csv(\"alloykjetting.txt\", sep=\" \")\n",
    "alloy.mbl = pd.to_numeric(alloy.mbl)\n",
    "alloy.massetetthet = pd.to_numeric(alloy.massetetthet.str.replace(\",\",\".\"))\n",
    "alloy[\"mbl_tonn\"] = alloy.mbl / g\n",
    "alloy.to_excel(\"alloykjetting.xlsx\")\n",
    "alloy.info()"
   ]
  },
  {
   "cell_type": "code",
   "execution_count": 8,
   "metadata": {},
   "outputs": [],
   "source": [
    "def transform(r):\n",
    "    result = 180 - (r - 90)\n",
    "    if result < 0:\n",
    "        return result + 360\n",
    "    else:\n",
    "        return result"
   ]
  },
  {
   "cell_type": "code",
   "execution_count": 9,
   "metadata": {},
   "outputs": [
    {
     "name": "stdout",
     "output_type": "stream",
     "text": [
      "345 285\n",
      "45 225\n",
      "105 165\n",
      "150 120\n",
      "165 105\n",
      "210 60\n",
      "285 345\n",
      "315 315\n"
     ]
    }
   ],
   "source": [
    "winddirs = [345, 45, 105, 150, 165, 210, 285, 315]\n",
    "for dir in winddirs:\n",
    "    print(dir, transform(dir))"
   ]
  }
 ],
 "metadata": {
  "kernelspec": {
   "display_name": "Python [default]",
   "language": "python",
   "name": "python3"
  },
  "language_info": {
   "codemirror_mode": {
    "name": "ipython",
    "version": 3
   },
   "file_extension": ".py",
   "mimetype": "text/x-python",
   "name": "python",
   "nbconvert_exporter": "python",
   "pygments_lexer": "ipython3",
   "version": "3.6.6"
  }
 },
 "nbformat": 4,
 "nbformat_minor": 2
}
